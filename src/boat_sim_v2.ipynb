{
 "cells": [
  {
   "cell_type": "code",
   "execution_count": null,
   "metadata": {
    "colab": {},
    "colab_type": "code",
    "id": "7NBtcYRrsijb"
   },
   "outputs": [],
   "source": [
    "# import pydrake\n",
    "# import underactuated\n",
    "# except ImportError:\n",
    "#     !curl -s https://raw.githubusercontent.com/RussTedrake/underactuated/master/scripts/setup/jupyter_setup.py > jupyter_setup.py\n",
    "#     from jupyter_setup import setup_underactuated\n",
    "#     setup_underactuated()\n",
    "\n",
    "# Setup matplotlib backend (to notebook, if possible, or inline).  \n",
    "from jupyter import setup_matplotlib_backend\n",
    "plt_is_interactive = setup_matplotlib_backend()"
   ]
  },
  {
   "cell_type": "code",
   "execution_count": null,
   "metadata": {
    "colab": {},
    "colab_type": "code",
    "id": "tx80BfWTufRU"
   },
   "outputs": [],
   "source": [
    "# general imports\n",
    "import os\n",
    "import numpy as np\n",
    "import scipy as sp\n",
    "\n",
    "# plotting/animation imports\n",
    "import matplotlib.pyplot as plt\n",
    "from matplotlib import rcParams\n",
    "from matplotlib.animation import FuncAnimation\n",
    "from matplotlib.patches import Rectangle\n",
    "rcParams['figure.figsize'] = (8, 5)\n",
    "from IPython.display import HTML, display\n",
    "\n",
    "# pydrake imports\n",
    "from pydrake.all import (VectorSystem, DiagramBuilder, SymbolicVectorSystem, LogOutput, PlanarSceneGraphVisualizer,\n",
    "                         Variable, SceneGraph, Parser, MultibodyPlant, AddMultibodyPlantSceneGraph, Simulator, sqrt, cos, sin, tan, abs, plot_system_graphviz )\n",
    "from pydrake.symbolic import if_then_else, logical_and, logical_or\n",
    "from pydrake.common.containers import EqualToDict\n"
   ]
  },
  {
   "cell_type": "markdown",
   "metadata": {
    "colab_type": "text",
    "id": "15to-UpMZtA9"
   },
   "source": [
    "# Simulation Parameters\n",
    "\n",
    "All parameters defined here. Things like map dimensions, current field, and boat/object properties should go here. Might convert some of these to classes down the road."
   ]
  },
  {
   "cell_type": "code",
   "execution_count": null,
   "metadata": {
    "colab": {},
    "colab_type": "code",
    "id": "o52X6HNG00XW"
   },
   "outputs": [],
   "source": [
    "# simulation parameters\n",
    "map_name = \"downstream\"                 # map setting\n",
    "map_width = 500                         # map width [m]\n",
    "map_height = 500                        # map height [m]\n",
    "dx = dy = 50                             # discretization step used to plot current vector field\n",
    "duration = 150                          # timesteps\n",
    "animate = True                        # whether or not to animate\n",
    "\n",
    "# initialization parameters\n",
    "start = [50, 50, np.pi, 0, 0, 0]        # initial state [x, y, theta, x_dot, y_dot, theta_dot]\n",
    "target = [100, 100, 0, 0, 0, 0]             # goal state [x', y', theta', x_dot', y_dot', theta_dot']\n",
    "\n",
    "# system constants\n",
    "m = 4000                                # mass of the boat [kg]\n",
    "l = 4.0                                 # half length of the boat [m]\n",
    "w = 5.0                                 # width of the boat [m]\n",
    "h = 2.0                                 # heigh of boat under water [m]\n",
    "rho_w = 997.0                           # density of water [kg/m^3]\n",
    "C = 1.0                                 # water drag coefficient [unitless]\n",
    "d = 1.5                               # distance of center of drag to CM [m]\n",
    "\n",
    "C_front = 0.2                           # drag coeff of boat moving forward/back\n",
    "C_side = 1.15                           # drag coeff of boat moving sideways"
   ]
  },
  {
   "cell_type": "markdown",
   "metadata": {
    "colab_type": "text",
    "id": "fGmu6L9kFutY"
   },
   "source": [
    "# Dynamics"
   ]
  },
  {
   "cell_type": "code",
   "execution_count": null,
   "metadata": {
    "colab": {},
    "colab_type": "code",
    "id": "k4Zj80uPY_YU"
   },
   "outputs": [],
   "source": [
    "def drag_coeff_from_angle(angle, C_side, C_front):\n",
    "  '''\n",
    "    Takes a weighted average of the side drag coefficient and front/back drag\n",
    "    coefficient. The weighting corresponds to angle = boat_heading for the\n",
    "    y-direction coefficients, with the x-direction just being a 90 deg shift\n",
    "\n",
    "    Currently assumes boat is a symmetrical about both axis \n",
    "  '''\n",
    "  # X is the same as Y shifted by 90 degrees\n",
    "  return C_front*cos(angle-np.pi/2)**2 + C_side*sin(angle-np.pi/2)**2, C_front*cos(angle)**2 + C_side*sin(angle)**2\n",
    "\n",
    "def drag_area_from_angle(angle, A_side, A_front):\n",
    "  '''\n",
    "    Takes weighted average of boat areas across front and side using same\n",
    "    convention as drag_coeff_from_angle\n",
    "  '''\n",
    "  return A_front*cos(angle-np.pi/2)**2 + A_side*sin(angle-np.pi/2)**2, A_front*cos(angle)**2 + A_side*sin(angle)**2\n",
    "\n",
    "def get_drag_params(th_h):\n",
    "  # From paper\n",
    "  # eps = 0.000001\n",
    "  # C_front = 0.02058*(l**2*w*h/(sqrt(x_dot**2 + y_dot**2)+eps))**(-1/8)\n",
    "\n",
    "  A_side = 2*l*h\n",
    "  A_front = w*h\n",
    "\n",
    "  # TODO: figure if coefficients are in correct order of magnitude\n",
    "  scale = 1\n",
    "\n",
    "  # TODO not sure drag can be vectorized? Is sum of parts equal to whole?\n",
    "  C_x, C_y = drag_coeff_from_angle(th_h, C_side, C_front)\n",
    "  A_x, A_y = drag_area_from_angle(th_h, A_side, A_front)\n",
    "\n",
    "  return C_x*scale, C_y*scale, A_x, A_y\n",
    "\n",
    "def get_current(x, y, name, vectorize=False):\n",
    "  '''\n",
    "    Retrieve x and y current components at a specific coordinate. If vectorize is True,\n",
    "    then assume x, y inputs are arrays and return a grid of currents along these coordinate\n",
    "    ranges. Used for plotting the vector field.\n",
    "  '''  \n",
    "  currents = {\n",
    "      \"width_varied_river\" : \n",
    "          [lambda x, y: 0, \n",
    "           lambda x, y: ((map_width/2)-abs(x-(map_width/2)))/(map_width/2)*2],\n",
    "      \"downstream\" : \n",
    "          [lambda x, y: 0, \n",
    "           lambda x, y: 1.0],\n",
    "      \"upstream\" : \n",
    "          [lambda x, y: 0, \n",
    "           lambda x, y: -1.0],\n",
    "      \"diagonal_river\" : \n",
    "          [lambda x, y: 1.0, \n",
    "           lambda x, y: 1.0],\n",
    "      \"no_current\" :\n",
    "          [lambda x, y: 0,\n",
    "           lambda x, y: 0],\n",
    "      \"WHIRLPOOL!\" :\n",
    "          [lambda x, y: x+y,\n",
    "           lambda x, y: y-x]\n",
    "  }\n",
    "  \n",
    "  if vectorize:\n",
    "      x_curr = np.zeros((len(x), len(y)))\n",
    "      y_curr = np.zeros((len(x), len(y)))\n",
    "      for i in range(len(x)):\n",
    "          for j in range(len(y)):\n",
    "              xi = x[i]\n",
    "              yj = y[j]\n",
    "              x_curr[i][j] = currents[name][0](xi, yj)\n",
    "              y_curr[i][j] = currents[name][1](xi, yj)\n",
    "  else:\n",
    "      x_curr = currents[name][0](x, y)\n",
    "      y_curr = currents[name][1](x, y)\n",
    "\n",
    "  return x_curr, y_curr\n",
    "  \n",
    "def generate_dynamics(state, torques):\n",
    "  # Generate continuous time dynamics: x_dot = f(x, u, t) #\n",
    "\n",
    "  F_t, th_t = torques\n",
    "  x, y, th_h, x_dot, y_dot, th_dot = state\n",
    "  x_dot_c, y_dot_c = get_current(x, y, map_name)\n",
    "\n",
    "  # Drag coefficient is a function of heading\n",
    "  C_drag_x, C_drag_y, A_drag_x, A_drag_y = get_drag_params(th_h)\n",
    "\n",
    "  F_drag_x = 0.5*rho_w*C_drag_x*A_drag_x*abs(x_dot_c - x_dot)*(x_dot_c - x_dot)\n",
    "  F_drag_y = 0.5*rho_w*C_drag_y*A_drag_y*abs(y_dot_c - y_dot)*(y_dot_c - y_dot)\n",
    "\n",
    "  # Drag from boat spinning (to stop from spinning infinitely fast)\n",
    "  T_drag_omega = -rho_w*C_side*h*l**4/4*th_dot*abs(th_dot)\n",
    "\n",
    "  I = m*((2*l)**2 + w**2) / 12\n",
    "\n",
    "  # TODO double check, add torque from current\n",
    "  x_ddot = (F_t*sin(th_h + th_t) + F_drag_x) / m\n",
    "  y_ddot = (F_t*cos(th_h + th_t) + F_drag_y) / m\n",
    "  th_ddot = (-F_t*l*sin(th_t) + (F_drag_x*cos(th_h) - F_drag_y*sin(th_h))*d + T_drag_omega)/I\n",
    "\n",
    "  return [x_dot, y_dot, th_dot, x_ddot, y_ddot, th_ddot]"
   ]
  },
  {
   "cell_type": "code",
   "execution_count": null,
   "metadata": {
    "colab": {},
    "colab_type": "code",
    "id": "vcFACcoVY8x7"
   },
   "outputs": [],
   "source": [
    "# state of the robot (standard cartesian)\n",
    "x = Variable(\"x\") # horizontal position\n",
    "y = Variable(\"y\") # vertical position\n",
    "theta = Variable(\"theta\") # angular position\n",
    "x_dot = Variable(\"x_dot\") # horizontal velocity\n",
    "y_dot = Variable(\"y_dot\") # vertical velocity\n",
    "theta_dot = Variable(\"theta_dot\") # angular velocity\n",
    "state = [x, y, theta, x_dot, y_dot, theta_dot]\n",
    "\n",
    "# control torques\n",
    "thrust = Variable(\"thrust\") # thrust force\n",
    "thrust_angle = Variable(\"thrust_angle\") # thrust angle\n",
    "torques = [thrust, thrust_angle]"
   ]
  },
  {
   "cell_type": "code",
   "execution_count": null,
   "metadata": {
    "colab": {},
    "colab_type": "code",
    "id": "bRQYA_wyn0EK"
   },
   "outputs": [],
   "source": [
    "def create_boat():\n",
    "  boat = SymbolicVectorSystem(\n",
    "              state=state,\n",
    "              input=torques,\n",
    "              output=state,\n",
    "              dynamics=generate_dynamics(state, torques)\n",
    "          ) \n",
    "  return boat"
   ]
  },
  {
   "cell_type": "markdown",
   "metadata": {
    "colab_type": "text",
    "id": "japqA-yQFa7_"
   },
   "source": [
    "# Plotting\n",
    "\n",
    "Plotting and animation functions."
   ]
  },
  {
   "cell_type": "code",
   "execution_count": null,
   "metadata": {
    "colab": {},
    "colab_type": "code",
    "id": "tHfGXyn7FZ6b"
   },
   "outputs": [],
   "source": [
    "def style_plot(ax, x_label, y_label, mode=None):\n",
    "    ax.set_xlabel(x_label)\n",
    "    ax.set_ylabel(y_label)\n",
    "    \n",
    "    if mode == 'env':\n",
    "      ax.set_ylim([0, map_height])\n",
    "      ax.set_xlim([0, map_width])\n",
    "\n",
    "def plot_boat(x, y, heading, width, height, ax=None, frame=.1, **kwargs):\n",
    "    kwargs['edgecolor'] = 'black'\n",
    "    kwargs['facecolor'] = 'none'\n",
    "    \n",
    "    if ax is None:\n",
    "        ax = plt.gca()\n",
    "\n",
    "    bottom_left = [x - width/2, y - height/2]\n",
    "    top_right = [x + width/2, y + height/2]\n",
    "\n",
    "    boat_shape = Rectangle(bottom_left, width, height, heading, **kwargs)\n",
    "    boat_heading = None\n",
    "\n",
    "    ax.add_patch(boat_shape)\n",
    "\n",
    "    return boat_shape\n",
    "\n",
    "def static_plot(logger, boat, objects):\n",
    "    '''\n",
    "    Render a static plot of the boat, objects, current, along with trajectories traced\n",
    "    for each of them. Used to initialize the animation, or just quickly plot simulation\n",
    "    results without taking the time to animate frames.\n",
    "    '''\n",
    "    fig1, ax1 = plt.subplots() # plot environment\n",
    "    fig2, ax2 = plt.subplots() # plot metrics\n",
    "\n",
    "    # Plot current field\n",
    "    x_curr = np.arange(0, map_width+dx, dx)\n",
    "    y_curr = np.arange(0, map_height+dy, dy)\n",
    "    u, v = get_current(x_curr, y_curr, map_name, vectorize=True)\n",
    "    ax1.quiver(x_curr, y_curr, u, v, color='teal', width=0.0045)\n",
    "\n",
    "    # Plot goal\n",
    "    ax1.plot(target[0], target[1], 'Xg')\n",
    "  \n",
    "    # Plot initial objects\n",
    "\n",
    "    # Highlight start and end of trajectory\n",
    "    ax1.plot(logger.data()[0,0], logger.data()[1,0], 'og') # start\n",
    "    ax1.plot(logger.data()[0,-1], logger.data()[1,-1], 'or') # end\n",
    "    \n",
    "    # Plot initial boat position\n",
    "    ax1.plot(logger.data()[0,:], logger.data()[1,:])\n",
    "    boat_graphic = plot_boat(logger.data()[0,0], logger.data()[1,0], logger.data()[2,0], w, 2*l, ax1)\n",
    "\n",
    "    # Plot metrics\n",
    "    ax2.plot(logger.sample_times(), logger.data()[3,:], color='b')\n",
    "    ax2.plot(logger.sample_times(), logger.data()[4,:], color='k')\n",
    "\n",
    "    y_min = np.min(np.concatenate((logger.data()[3,:], logger.data()[4,:])))\n",
    "    y_max = np.max(np.concatenate((logger.data()[3,:], logger.data()[4,:])))\n",
    "    ax2.set_ylim((y_min-0.5, y_max+0.5))\n",
    "\n",
    "    ax3 = ax2.twinx()\n",
    "    ax3.plot(logger.sample_times(), logger.data()[2,:], 'r')\n",
    "    ax3.plot(logger.sample_times(), logger.data()[5,:], 'r-.')\n",
    "    ax3.set_ylabel('th_h(t)')\n",
    "\n",
    "    # Labels and stylistic attributes\n",
    "    style_plot(ax1, 'x(t)', 'y(t)', 'env')\n",
    "    style_plot(ax2, 'time', 'xd(t) and yd(t)', 'metrics')\n",
    "\n",
    "    return fig1, ax1, fig2, ax2, [boat_graphic, list()]\n",
    "\n",
    "def animate_env(logger, boat, objects):\n",
    "\n",
    "    fig1, ax1, fig2, ax2, graphics = static_plot(logger, boat, objects)\n",
    "\n",
    "    def animate(step):\n",
    "\n",
    "        boat_graphic, objects = graphics\n",
    "        # move objects\n",
    "        # move boat\n",
    "        boat_graphic.set_x(logger.data()[0, step] - w/2)\n",
    "        boat_graphic.set_y(logger.data()[1, step] - l)\n",
    "\n",
    "        return [boat_graphic] # list of patches to redraw\n",
    "\n",
    "    animation = FuncAnimation(fig1, animate, frames=duration*10, interval=1, blit=True)\n",
    "    display(HTML(animation.to_jshtml())) # displays the animation"
   ]
  },
  {
   "cell_type": "markdown",
   "metadata": {
    "colab_type": "text",
    "id": "z7bgxQBR0qH2"
   },
   "source": [
    "# Block Diagram\n",
    "\n",
    "Block diagram should go here, along with controller."
   ]
  },
  {
   "cell_type": "code",
   "execution_count": null,
   "metadata": {
    "colab": {},
    "colab_type": "code",
    "id": "bCxsrfUVx5eZ"
   },
   "outputs": [],
   "source": [
    "def build_block_diagram(boat, controller):\n",
    "\n",
    "    builder = DiagramBuilder()\n",
    "    boat = builder.AddSystem(boat)\n",
    "    boat.set_name('boat')\n",
    "\n",
    "    # logger to track trajectories\n",
    "    logger = LogOutput(boat.get_output_port(0), builder)\n",
    "    logger.set_name('logger')\n",
    "\n",
    "    # expose boats input as an input port\n",
    "    builder.ExportInput(boat.get_input_port(0))\n",
    "\n",
    "    # build diagram\n",
    "    diagram = builder.Build()\n",
    "    diagram.set_name('diagram')\n",
    "\n",
    "    return diagram"
   ]
  },
  {
   "cell_type": "markdown",
   "metadata": {
    "colab_type": "text",
    "id": "SjqhEHn40wNW"
   },
   "source": [
    "# Simulation\n",
    "\n",
    "Simulation code to animate everything."
   ]
  },
  {
   "cell_type": "code",
   "execution_count": null,
   "metadata": {
    "colab": {},
    "colab_type": "code",
    "id": "y0eC_7oQ_dCW"
   },
   "outputs": [],
   "source": [
    "def simulate(initial_state, const_input, boat, controller, duration):\n",
    "\n",
    "    diagram = build_block_diagram(boat, controller)\n",
    "\n",
    "    # set up a simulator\n",
    "    simulator = Simulator(diagram)\n",
    "    simulator_context = simulator.get_mutable_context()\n",
    "\n",
    "    # set the initial conditions\n",
    "    boat = diagram.GetSubsystemByName('boat')\n",
    "    boat_context = diagram.GetMutableSubsystemContext(boat, simulator_context)\n",
    "    boat_context.get_mutable_continuous_state_vector().SetFromVector(initial_state)\n",
    "\n",
    "    # Set Inputs to Boat\n",
    "    simulator_context.FixInputPort(0, const_input)\n",
    "\n",
    "    # simulate from time zero to duration\n",
    "    simulator.AdvanceTo(duration)\n",
    "\n",
    "    return diagram.GetSubsystemByName('logger')\n"
   ]
  },
  {
   "cell_type": "markdown",
   "metadata": {
    "colab_type": "text",
    "id": "UqvKuHHxFpdB"
   },
   "source": [
    "# Main execution loop"
   ]
  },
  {
   "cell_type": "code",
   "execution_count": null,
   "metadata": {
    "colab": {
     "base_uri": "https://localhost:8080/",
     "height": 1000
    },
    "colab_type": "code",
    "id": "k6LV-aWRcOFM",
    "outputId": "08bf90c9-9551-461f-c6e2-091245a182ea"
   },
   "outputs": [],
   "source": [
    "\n",
    "boat = create_boat()\n",
    "logger = simulate(start, [0, 0], boat, None, duration)\n",
    "\n",
    "if animate:\n",
    "    animate_env(logger, boat, list())\n",
    "else:\n",
    "    static_plot(logger, boat, list())\n"
   ]
  }
 ],
 "metadata": {
  "colab": {
   "collapsed_sections": [],
   "name": "boat_sim_v2.ipynb",
   "provenance": []
  },
  "kernelspec": {
   "display_name": "Python 3",
   "language": "python",
   "name": "python3"
  },
  "language_info": {
   "codemirror_mode": {
    "name": "ipython",
    "version": 3
   },
   "file_extension": ".py",
   "mimetype": "text/x-python",
   "name": "python",
   "nbconvert_exporter": "python",
   "pygments_lexer": "ipython3",
   "version": "3.6.9"
  }
 },
 "nbformat": 4,
 "nbformat_minor": 1
}
